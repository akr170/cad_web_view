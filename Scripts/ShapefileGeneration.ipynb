{
 "cells": [
  {
   "cell_type": "code",
   "execution_count": 1,
   "id": "4698413e-344d-4d39-bef0-3e3bad1152e8",
   "metadata": {},
   "outputs": [],
   "source": [
    "#import requires packages\n",
    "import fiona\n",
    "import pandas as pd"
   ]
  },
  {
   "cell_type": "markdown",
   "id": "62044894-999a-4428-b9a5-864b7a85e0cf",
   "metadata": {},
   "source": [
    "<hr/> \n",
    "\n",
    "### Create point shapefile"
   ]
  },
  {
   "cell_type": "code",
   "execution_count": 2,
   "id": "67111d8a-7b78-4cf8-ae32-b92ddb439d2e",
   "metadata": {},
   "outputs": [
    {
     "data": {
      "text/html": [
       "<div>\n",
       "<style scoped>\n",
       "    .dataframe tbody tr th:only-of-type {\n",
       "        vertical-align: middle;\n",
       "    }\n",
       "\n",
       "    .dataframe tbody tr th {\n",
       "        vertical-align: top;\n",
       "    }\n",
       "\n",
       "    .dataframe thead th {\n",
       "        text-align: right;\n",
       "    }\n",
       "</style>\n",
       "<table border=\"1\" class=\"dataframe\">\n",
       "  <thead>\n",
       "    <tr style=\"text-align: right;\">\n",
       "      <th></th>\n",
       "      <th>X</th>\n",
       "      <th>Y</th>\n",
       "      <th>Name</th>\n",
       "    </tr>\n",
       "  </thead>\n",
       "  <tbody>\n",
       "    <tr>\n",
       "      <th>0</th>\n",
       "      <td>-84.200969</td>\n",
       "      <td>9.480966</td>\n",
       "      <td>Plant1</td>\n",
       "    </tr>\n",
       "    <tr>\n",
       "      <th>1</th>\n",
       "      <td>-84.200841</td>\n",
       "      <td>9.480931</td>\n",
       "      <td>Plant2</td>\n",
       "    </tr>\n",
       "    <tr>\n",
       "      <th>2</th>\n",
       "      <td>-84.201841</td>\n",
       "      <td>9.481167</td>\n",
       "      <td>Plant3</td>\n",
       "    </tr>\n",
       "    <tr>\n",
       "      <th>3</th>\n",
       "      <td>-84.200862</td>\n",
       "      <td>9.479898</td>\n",
       "      <td>Plant4</td>\n",
       "    </tr>\n",
       "    <tr>\n",
       "      <th>4</th>\n",
       "      <td>-84.200657</td>\n",
       "      <td>9.479586</td>\n",
       "      <td>Plant5</td>\n",
       "    </tr>\n",
       "  </tbody>\n",
       "</table>\n",
       "</div>"
      ],
      "text/plain": [
       "           X         Y    Name\n",
       "0 -84.200969  9.480966  Plant1\n",
       "1 -84.200841  9.480931  Plant2\n",
       "2 -84.201841  9.481167  Plant3\n",
       "3 -84.200862  9.479898  Plant4\n",
       "4 -84.200657  9.479586  Plant5"
      ]
     },
     "execution_count": 2,
     "metadata": {},
     "output_type": "execute_result"
    }
   ],
   "source": [
    "#import points from csv file\n",
    "pointDf = pd.read_csv('../Txt//cropPoints.csv',header=0)\n",
    "pointDf.head()"
   ]
  },
  {
   "cell_type": "code",
   "execution_count": 3,
   "id": "637e3519-4529-4565-9b80-83c0ea8f5f92",
   "metadata": {},
   "outputs": [],
   "source": [
    "# define schema\n",
    "schema = {\n",
    "    'geometry':'Point',\n",
    "    'properties':[('Name','str')]\n",
    "}\n"
   ]
  },
  {
   "cell_type": "code",
   "execution_count": 4,
   "id": "ec08ac81-67f5-43f8-869a-125093287bd1",
   "metadata": {},
   "outputs": [
    {
     "data": {
      "text/plain": [
       "{'AeronavFAA': 'r',\n",
       " 'ARCGEN': 'r',\n",
       " 'BNA': 'rw',\n",
       " 'DXF': 'rw',\n",
       " 'CSV': 'raw',\n",
       " 'OpenFileGDB': 'r',\n",
       " 'ESRIJSON': 'r',\n",
       " 'ESRI Shapefile': 'raw',\n",
       " 'FlatGeobuf': 'rw',\n",
       " 'GeoJSON': 'raw',\n",
       " 'GeoJSONSeq': 'rw',\n",
       " 'GPKG': 'raw',\n",
       " 'GML': 'rw',\n",
       " 'OGR_GMT': 'rw',\n",
       " 'GPX': 'rw',\n",
       " 'GPSTrackMaker': 'rw',\n",
       " 'Idrisi': 'r',\n",
       " 'MapInfo File': 'raw',\n",
       " 'DGN': 'raw',\n",
       " 'PCIDSK': 'rw',\n",
       " 'OGR_PDS': 'r',\n",
       " 'S57': 'r',\n",
       " 'SEGY': 'r',\n",
       " 'SQLite': 'raw',\n",
       " 'SUA': 'r',\n",
       " 'TopoJSON': 'r'}"
      ]
     },
     "execution_count": 4,
     "metadata": {},
     "output_type": "execute_result"
    }
   ],
   "source": [
    "# explore available drivers\n",
    "fiona.supported_drivers"
   ]
  },
  {
   "cell_type": "raw",
   "id": "48a8dcb8-5c17-492c-a57f-c66d5358ce8f",
   "metadata": {},
   "source": [
    "#structure of fiona object\n",
    "\n",
    "fiona.open(\n",
    "    fp,\n",
    "    mode='r',\n",
    "    driver=None,\n",
    "    schema=None,\n",
    "    crs=None,\n",
    "    encoding=None,\n",
    "    layer=None,\n",
    "    vfs=None,\n",
    "    enabled_drivers=None,\n",
    "    crs_wkt=None,\n",
    "    **kwargs,\n",
    ")"
   ]
  },
  {
   "cell_type": "code",
   "execution_count": 5,
   "id": "720000bb-2c90-4640-8a46-24e5642adada",
   "metadata": {},
   "outputs": [],
   "source": [
    "#open a fiona object\n",
    "pointShp = fiona.open('../ShapeOut/cropPoints.shp', mode='w', driver='ESRI Shapefile',\n",
    "          schema = schema, crs = \"EPSG:4326\")"
   ]
  },
  {
   "cell_type": "code",
   "execution_count": 6,
   "id": "e25f6f22-80f7-4f10-a0a6-56929ceab386",
   "metadata": {},
   "outputs": [],
   "source": [
    "#iterate over each row in the dataframe and save record\n",
    "for index, row in pointDf.iterrows():\n",
    "    rowDict = {\n",
    "        'geometry' : {'type':'Point',\n",
    "                     'coordinates': (row.X,row.Y)},\n",
    "        'properties': {'Name' : row.Name},\n",
    "    }\n",
    "    pointShp.write(rowDict)\n",
    "#close fiona object\n",
    "pointShp.close()"
   ]
  },
  {
   "cell_type": "markdown",
   "id": "0c725126-ee4a-4fe7-a459-b3925473133a",
   "metadata": {},
   "source": [
    "<hr/> \n",
    "\n",
    "### Create line shapefile"
   ]
  },
  {
   "cell_type": "code",
   "execution_count": 7,
   "id": "03864235-02e8-4e3e-8b00-5d1092c5e294",
   "metadata": {},
   "outputs": [
    {
     "data": {
      "text/html": [
       "<div>\n",
       "<style scoped>\n",
       "    .dataframe tbody tr th:only-of-type {\n",
       "        vertical-align: middle;\n",
       "    }\n",
       "\n",
       "    .dataframe tbody tr th {\n",
       "        vertical-align: top;\n",
       "    }\n",
       "\n",
       "    .dataframe thead th {\n",
       "        text-align: right;\n",
       "    }\n",
       "</style>\n",
       "<table border=\"1\" class=\"dataframe\">\n",
       "  <thead>\n",
       "    <tr style=\"text-align: right;\">\n",
       "      <th></th>\n",
       "      <th>X</th>\n",
       "      <th>Y</th>\n",
       "      <th>Name</th>\n",
       "    </tr>\n",
       "  </thead>\n",
       "  <tbody>\n",
       "    <tr>\n",
       "      <th>0</th>\n",
       "      <td>-84.201990</td>\n",
       "      <td>9.480380</td>\n",
       "      <td>Row1</td>\n",
       "    </tr>\n",
       "    <tr>\n",
       "      <th>1</th>\n",
       "      <td>-84.201928</td>\n",
       "      <td>9.480319</td>\n",
       "      <td>Row1</td>\n",
       "    </tr>\n",
       "    <tr>\n",
       "      <th>2</th>\n",
       "      <td>-84.201871</td>\n",
       "      <td>9.480261</td>\n",
       "      <td>Row1</td>\n",
       "    </tr>\n",
       "    <tr>\n",
       "      <th>3</th>\n",
       "      <td>-84.201820</td>\n",
       "      <td>9.480199</td>\n",
       "      <td>Row1</td>\n",
       "    </tr>\n",
       "    <tr>\n",
       "      <th>4</th>\n",
       "      <td>-84.201756</td>\n",
       "      <td>9.480133</td>\n",
       "      <td>Row1</td>\n",
       "    </tr>\n",
       "  </tbody>\n",
       "</table>\n",
       "</div>"
      ],
      "text/plain": [
       "           X         Y  Name\n",
       "0 -84.201990  9.480380  Row1\n",
       "1 -84.201928  9.480319  Row1\n",
       "2 -84.201871  9.480261  Row1\n",
       "3 -84.201820  9.480199  Row1\n",
       "4 -84.201756  9.480133  Row1"
      ]
     },
     "execution_count": 7,
     "metadata": {},
     "output_type": "execute_result"
    }
   ],
   "source": [
    "#import line vertex from csv file\n",
    "lineDf = pd.read_csv('../Txt/cropLine.csv',header=0)\n",
    "lineDf.head()"
   ]
  },
  {
   "cell_type": "code",
   "execution_count": 8,
   "id": "bee3dfdb-b080-4e28-9f16-562a63024648",
   "metadata": {},
   "outputs": [],
   "source": [
    "# define schema\n",
    "schema = {\n",
    "    'geometry':'LineString',\n",
    "    'properties':[('Name','str')]\n",
    "}"
   ]
  },
  {
   "cell_type": "code",
   "execution_count": 9,
   "id": "b499d633-0c53-45b5-ba48-a0bc658fca69",
   "metadata": {},
   "outputs": [],
   "source": [
    "#open a fiona object\n",
    "lineShp = fiona.open('../ShapeOut/cropLine.shp', mode='w', driver='ESRI Shapefile',\n",
    "          schema = schema, crs = \"EPSG:4326\")"
   ]
  },
  {
   "cell_type": "code",
   "execution_count": 10,
   "id": "081b3a77-5fcb-4899-a57f-75693f216153",
   "metadata": {},
   "outputs": [
    {
     "data": {
      "text/plain": [
       "[(-84.2019904893069, 9.48038022019686),\n",
       " (-84.2019279965972, 9.48031926246447),\n",
       " (-84.2018711206848, 9.48026145133191),\n",
       " (-84.2018196550243, 9.48019910289781),\n",
       " (-84.2017559092017, 9.48013268586072)]"
      ]
     },
     "execution_count": 10,
     "metadata": {},
     "output_type": "execute_result"
    }
   ],
   "source": [
    "#get list of points\n",
    "xyList = []\n",
    "rowName = ''\n",
    "for index, row in lineDf.iterrows():\n",
    "    xyList.append((row.X,row.Y))\n",
    "    rowName = row.Name\n",
    "xyList[:5]"
   ]
  },
  {
   "cell_type": "code",
   "execution_count": 11,
   "id": "c1400488-4681-4ee1-b79a-398f1da06421",
   "metadata": {},
   "outputs": [],
   "source": [
    "#save record and close shapefile\n",
    "rowDict = {\n",
    "'geometry' : {'type':'LineString',\n",
    "                 'coordinates': xyList},\n",
    "'properties': {'Name' : rowName},\n",
    "}\n",
    "lineShp.write(rowDict)\n",
    "#close fiona object\n",
    "lineShp.close()"
   ]
  },
  {
   "cell_type": "markdown",
   "id": "b7663dd2-99c2-4355-91cf-f238c9828fce",
   "metadata": {},
   "source": [
    "<hr/> \n",
    "\n",
    "### Create polygon shapefile"
   ]
  },
  {
   "cell_type": "code",
   "execution_count": 12,
   "id": "aa57b1f7-2fab-413b-a426-3214c24b2448",
   "metadata": {},
   "outputs": [
    {
     "data": {
      "text/html": [
       "<div>\n",
       "<style scoped>\n",
       "    .dataframe tbody tr th:only-of-type {\n",
       "        vertical-align: middle;\n",
       "    }\n",
       "\n",
       "    .dataframe tbody tr th {\n",
       "        vertical-align: top;\n",
       "    }\n",
       "\n",
       "    .dataframe thead th {\n",
       "        text-align: right;\n",
       "    }\n",
       "</style>\n",
       "<table border=\"1\" class=\"dataframe\">\n",
       "  <thead>\n",
       "    <tr style=\"text-align: right;\">\n",
       "      <th></th>\n",
       "      <th>X</th>\n",
       "      <th>Y</th>\n",
       "      <th>Name</th>\n",
       "    </tr>\n",
       "  </thead>\n",
       "  <tbody>\n",
       "    <tr>\n",
       "      <th>0</th>\n",
       "      <td>-84.202396</td>\n",
       "      <td>9.480334</td>\n",
       "      <td>Border1</td>\n",
       "    </tr>\n",
       "    <tr>\n",
       "      <th>1</th>\n",
       "      <td>-84.202190</td>\n",
       "      <td>9.480555</td>\n",
       "      <td>Border1</td>\n",
       "    </tr>\n",
       "    <tr>\n",
       "      <th>2</th>\n",
       "      <td>-84.201886</td>\n",
       "      <td>9.480792</td>\n",
       "      <td>Border1</td>\n",
       "    </tr>\n",
       "    <tr>\n",
       "      <th>3</th>\n",
       "      <td>-84.201529</td>\n",
       "      <td>9.481153</td>\n",
       "      <td>Border1</td>\n",
       "    </tr>\n",
       "    <tr>\n",
       "      <th>4</th>\n",
       "      <td>-84.201307</td>\n",
       "      <td>9.481303</td>\n",
       "      <td>Border1</td>\n",
       "    </tr>\n",
       "  </tbody>\n",
       "</table>\n",
       "</div>"
      ],
      "text/plain": [
       "           X         Y     Name\n",
       "0 -84.202396  9.480334  Border1\n",
       "1 -84.202190  9.480555  Border1\n",
       "2 -84.201886  9.480792  Border1\n",
       "3 -84.201529  9.481153  Border1\n",
       "4 -84.201307  9.481303  Border1"
      ]
     },
     "execution_count": 12,
     "metadata": {},
     "output_type": "execute_result"
    }
   ],
   "source": [
    "#import line vertex from csv file\n",
    "polyDf = pd.read_csv('../Txt/cropPoly.csv',header=0)\n",
    "polyDf.head()"
   ]
  },
  {
   "cell_type": "code",
   "execution_count": 13,
   "id": "cf32e415-6c60-4286-b115-c84e1145acc1",
   "metadata": {},
   "outputs": [
    {
     "data": {
      "text/html": [
       "<div>\n",
       "<style scoped>\n",
       "    .dataframe tbody tr th:only-of-type {\n",
       "        vertical-align: middle;\n",
       "    }\n",
       "\n",
       "    .dataframe tbody tr th {\n",
       "        vertical-align: top;\n",
       "    }\n",
       "\n",
       "    .dataframe thead th {\n",
       "        text-align: right;\n",
       "    }\n",
       "</style>\n",
       "<table border=\"1\" class=\"dataframe\">\n",
       "  <thead>\n",
       "    <tr style=\"text-align: right;\">\n",
       "      <th></th>\n",
       "      <th>X</th>\n",
       "      <th>Y</th>\n",
       "      <th>Name</th>\n",
       "    </tr>\n",
       "  </thead>\n",
       "  <tbody>\n",
       "    <tr>\n",
       "      <th>19</th>\n",
       "      <td>-84.201742</td>\n",
       "      <td>9.479385</td>\n",
       "      <td>Border1</td>\n",
       "    </tr>\n",
       "    <tr>\n",
       "      <th>20</th>\n",
       "      <td>-84.201863</td>\n",
       "      <td>9.479413</td>\n",
       "      <td>Border1</td>\n",
       "    </tr>\n",
       "    <tr>\n",
       "      <th>21</th>\n",
       "      <td>-84.202157</td>\n",
       "      <td>9.479673</td>\n",
       "      <td>Border1</td>\n",
       "    </tr>\n",
       "    <tr>\n",
       "      <th>22</th>\n",
       "      <td>-84.202398</td>\n",
       "      <td>9.479917</td>\n",
       "      <td>Border1</td>\n",
       "    </tr>\n",
       "    <tr>\n",
       "      <th>23</th>\n",
       "      <td>-84.202396</td>\n",
       "      <td>9.480334</td>\n",
       "      <td>Border1</td>\n",
       "    </tr>\n",
       "  </tbody>\n",
       "</table>\n",
       "</div>"
      ],
      "text/plain": [
       "            X         Y     Name\n",
       "19 -84.201742  9.479385  Border1\n",
       "20 -84.201863  9.479413  Border1\n",
       "21 -84.202157  9.479673  Border1\n",
       "22 -84.202398  9.479917  Border1\n",
       "23 -84.202396  9.480334  Border1"
      ]
     },
     "execution_count": 13,
     "metadata": {},
     "output_type": "execute_result"
    }
   ],
   "source": [
    "#show the last item\n",
    "polyDf.tail()"
   ]
  },
  {
   "cell_type": "code",
   "execution_count": 14,
   "id": "b441c3b2-e710-42bf-b0ad-ba2d13a04962",
   "metadata": {},
   "outputs": [],
   "source": [
    "# define schema\n",
    "schema = {\n",
    "    'geometry':'Polygon',\n",
    "    'properties':[('Name','str')]\n",
    "}"
   ]
  },
  {
   "cell_type": "code",
   "execution_count": 15,
   "id": "56ae71b4-12cc-4d86-a264-7bb074dc4dd6",
   "metadata": {},
   "outputs": [],
   "source": [
    "#open a fiona object\n",
    "polyShp = fiona.open('../ShapeOut/cropPoly.shp', mode='w', driver='ESRI Shapefile',\n",
    "          schema = schema, crs = \"EPSG:4326\")"
   ]
  },
  {
   "cell_type": "code",
   "execution_count": 16,
   "id": "50d04bf8-9a36-4635-bb4b-5273a4d32718",
   "metadata": {},
   "outputs": [
    {
     "data": {
      "text/plain": [
       "[(-84.20239642444, 9.48033431305493),\n",
       " (-84.2021899231741, 9.48055508704213),\n",
       " (-84.2018864783201, 9.48079161161365),\n",
       " (-84.2015288437831, 9.48115260231102),\n",
       " (-84.2013071850694, 9.4813034753504)]"
      ]
     },
     "execution_count": 16,
     "metadata": {},
     "output_type": "execute_result"
    }
   ],
   "source": [
    "#get list of points\n",
    "xyList = []\n",
    "rowName = ''\n",
    "for index, row in polyDf.iterrows():\n",
    "    xyList.append((row.X,row.Y))\n",
    "    rowName = row.Name\n",
    "xyList[:5]"
   ]
  },
  {
   "cell_type": "code",
   "execution_count": 17,
   "id": "1c89176f-d2f8-4624-a26b-208ed9c51b81",
   "metadata": {},
   "outputs": [],
   "source": [
    "#save record and close shapefile\n",
    "rowDict = {\n",
    "'geometry' : {'type':'Polygon',\n",
    "                 'coordinates': [xyList]}, #Here the xyList is in brackets\n",
    "'properties': {'Name' : rowName},\n",
    "}\n",
    "polyShp.write(rowDict)\n",
    "#close fiona object\n",
    "polyShp.close()"
   ]
  },
  {
   "cell_type": "code",
   "execution_count": null,
   "id": "8b38a442-9979-4443-87cd-b561e88fb0e9",
   "metadata": {},
   "outputs": [],
   "source": []
  }
 ],
 "metadata": {
  "kernelspec": {
   "display_name": "Python 3",
   "language": "python",
   "name": "python3"
  },
  "language_info": {
   "codemirror_mode": {
    "name": "ipython",
    "version": 3
   },
   "file_extension": ".py",
   "mimetype": "text/x-python",
   "name": "python",
   "nbconvert_exporter": "python",
   "pygments_lexer": "ipython3",
   "version": "3.9.5"
  }
 },
 "nbformat": 4,
 "nbformat_minor": 5
}
